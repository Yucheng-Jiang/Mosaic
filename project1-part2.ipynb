{
 "cells": [
  {
   "cell_type": "code",
   "execution_count": 1,
   "metadata": {},
   "outputs": [],
   "source": [
    "import skimage\n",
    "import skimage.io\n",
    "import pandas as pd\n",
    "\n",
    "import PIL\n",
    "from PIL import Image\n",
    "\n",
    "from os import listdir\n",
    "from os.path import isfile, join\n",
    "import sys"
   ]
  },
  {
   "cell_type": "markdown",
   "metadata": {},
   "source": [
    "# Project 1 - Part 2\n",
    "\n",
    "This project depends on a completed Part 1.  Make sure to complete Part 1 and save the CSV file (by running the last code cell) before you start on Part 2."
   ]
  },
  {
   "cell_type": "markdown",
   "metadata": {},
   "source": [
    "## Part 2a: Finding the Average Color of a Region of an Image\n",
    "\n",
    "In Part 1, you found the average color of an image.  For this part, find the average color of a region of the image array `lab`, a starting location (`x` and `y`), and a `width` and `height`.  You need to return the same data type as in Part 1 (a dictionary with `L`, `a`, and `b`).\n",
    "\n",
    "*(Hint: Your source code from Part 1 should help you out here!)*"
   ]
  },
  {
   "cell_type": "code",
   "execution_count": 2,
   "metadata": {
    "deletable": false,
    "nbgrader": {
     "cell_type": "code",
     "checksum": "aa987a396a581618d012f3554d7a58e4",
     "grade": false,
     "grade_id": "cell-8696f7ce092e5e9c",
     "locked": false,
     "schema_version": 3,
     "solution": true,
     "task": false
    }
   },
   "outputs": [],
   "source": [
    "import skimage.io\n",
    "import pandas as pd\n",
    "\n",
    "def findAverageColor(lab, x, y, width, height):\n",
    "    # Your code here\n",
    "    # Visit every pixel in the image, storing the color of the pixel\n",
    "    data = []\n",
    "    for i in range(x, x + height):\n",
    "        for j in range(y, y + width):\n",
    "            L, a, b = lab[i][j]\n",
    "            # At this point, the variable `L` stores the `L` value for the pixel at (x, y),\n",
    "            # ...`a` stores the `a` value, and\n",
    "            # ...`b` stores the `b` value\n",
    "            #\n",
    "            # You will need to save this data or keep a running count of all the L, a, and b values\n",
    "            # in order to find an average after running the for-loop.\n",
    "            data.append({\"L\" : L, \"a\" : a, \"b\" : b})\n",
    "    df = pd.DataFrame(data)\n",
    "    \n",
    "    # find the average image color for the full image\n",
    "    L_average = df['L'].sum() / (width * height)\n",
    "    a_average = df['a'].sum() / (width * height)\n",
    "    b_average = df['b'].sum() / (width * height)\n",
    "    \n",
    "    # Return the average image color\n",
    "    return {'L': L_average, 'a': a_average, 'b': b_average}\n",
    "    \n",
    "    "
   ]
  },
  {
   "cell_type": "code",
   "execution_count": 3,
   "metadata": {
    "deletable": false,
    "editable": false,
    "nbgrader": {
     "cell_type": "code",
     "checksum": "2ee26ae4f7c46c806a90ab832ea372fb",
     "grade": true,
     "grade_id": "cell-d0f665ec48a6615e",
     "locked": true,
     "points": 1,
     "schema_version": 3,
     "solution": false,
     "task": false
    }
   },
   "outputs": [
    {
     "name": "stdout",
     "output_type": "stream",
     "text": [
      "ℹ Your test.png values (0, 0) -> (4, 4): (L=47.19722525581814, a=49.03421116311882, b=38.60877549417686)\n",
      "ℹ Your test.png values (0, 0) -> (2, 2): (L=54.244093289693964, a=59.3141053878179, b=52.979879933089656)\n",
      "ℹ Your test3.png values (0, 0) -> (4, 6): (L=46.41423991872082, a=47.892000693707814, b=37.01198611207544)\n",
      "\n",
      "🎉 All tests passed! 🎉\n"
     ]
    }
   ],
   "source": [
    "## == TEST CASES for Part 2a ==\n",
    "# - This read-only cell contains test cases for your previous cell(s).\n",
    "# - If this cell runs without any errors in the output, you PASSED all test cases!\n",
    "# - If this cell results errors, check you previous cell, make changes, and RE-RUN your code and then this cell.\n",
    "info = '\\N{INFORMATION SOURCE}'\n",
    "\n",
    "rgb1 = skimage.io.imread(\"test.png\")\n",
    "lab1 = skimage.color.rgb2lab(rgb1)\n",
    "test = findAverageColor(lab1, 0, 0, 4, 4)\n",
    "\n",
    "assert( test != None ), \"Your findAverageColor function must return a value (right now it's returning nothing).\"\n",
    "assert( type(test) == type({}) ), f\"Your findAverageColor function must return a dictionary (right now it's returning {type(test)}).\"\n",
    "\n",
    "assert( 'L' in test ), \"Your findAverageColor must return a value for 'L'.\"\n",
    "assert( 'a' in test ), \"Your findAverageColor must return a value for 'a'.\"\n",
    "assert( 'b' in test ), \"Your findAverageColor must return a value for 'b'.\"\n",
    "\n",
    "print(f\"{info} Your test.png values (0, 0) -> (4, 4): (L={test['L']}, a={test['a']}, b={test['b']})\")\n",
    "assert( abs(test['L'] - 54.244) > 0.001 ), \"Your 'L' value is the value of only orange pixels.  Are you sure you are visiting every pixel?\"\n",
    "assert( abs(test['a'] - 59.314) > 0.001 ), \"Your 'a' value is the value of only orange pixels.  Are you sure you are visiting every pixel?\"\n",
    "assert( abs(test['b'] - 52.9799) > 0.001 ), \"Your 'b' value is the value of only orange pixels.  Are you sure you are visiting every pixel?\"\n",
    "\n",
    "assert( abs(test['L'] - 47.197) < 0.001 ), \"Your 'L' value is not correct on test.png.\"\n",
    "assert( abs(test['a'] - 49.034) < 0.001 ), \"Your 'a' value is not correct on test.png.\"\n",
    "assert( abs(test['b'] - 38.609) < 0.001 ), \"Your 'b' value is not correct on test.png.\"\n",
    "\n",
    "\n",
    "test2 = findAverageColor(lab1, 0, 0, 2, 2)\n",
    "\n",
    "print(f\"{info} Your test.png values (0, 0) -> (2, 2): (L={test2['L']}, a={test2['a']}, b={test2['b']})\")\n",
    "assert( abs(test2['L'] - 54.244) < 0.001 ), \"Your 'L' value is not correct on test.png when using only 2x2.\"\n",
    "assert( abs(test2['a'] - 59.314) < 0.001 ), \"Your 'a' value is not correct on test.png when using only 2x2.\"\n",
    "assert( abs(test2['b'] - 52.9799) < 0.001 ), \"Your 'b' value is not correct on test.png when using only 2x2.\"\n",
    "\n",
    "\n",
    "\n",
    "rgb3 = skimage.io.imread(\"test3.png\")\n",
    "lab3 = skimage.color.rgb2lab(rgb3)\n",
    "test3 = findAverageColor(lab3, 0, 0, 4, 6)\n",
    "\n",
    "print(f\"{info} Your test3.png values (0, 0) -> (4, 6): (L={test3['L']}, a={test3['a']}, b={test3['b']})\")\n",
    "assert( abs(test3['L'] - 46.414) < 0.001 ), \"Your 'L' value is not correct on test3.png.\"\n",
    "assert( abs(test3['a'] - 47.892) < 0.001 ), \"Your 'a' value is not correct on test3.png.\"\n",
    "assert( abs(test3['b'] - 37.012) < 0.001 ), \"Your 'b' value is not correct on test3.png.\"\n",
    "\n",
    "\n",
    "## == SUCCESS MESSAGE ==\n",
    "# You will only see this message (with the emoji showing) if you passed all test cases:\n",
    "tada = \"\\N{PARTY POPPER}\"\n",
    "print()\n",
    "print(f\"{tada} All tests passed! {tada}\")"
   ]
  },
  {
   "cell_type": "markdown",
   "metadata": {},
   "source": [
    "## Part 2b: Finding the best match\n",
    "\n",
    "In Part 1, you saved a csv file of all tile images.  For this part, you will find the best tile image given an `L`, `a`, and `b` value and your DataFrame, passed in as `df`, in the same format as you saved in Part 1.\n",
    "\n",
    "This function must return a new DataFrame with exactly one row that contains the best match out of all of the images in `df` based on the Euclidean distance away from the provided (`L`, `a`, `b`).  *(You should not remove rows from `df` itself, as the same `df` will be passed to you each time; make sure to assign your smallest one row to a new and differently named DataFrame.)*"
   ]
  },
  {
   "cell_type": "code",
   "execution_count": 4,
   "metadata": {
    "deletable": false,
    "nbgrader": {
     "cell_type": "code",
     "checksum": "154cb633bac13492022fe475bac06484",
     "grade": false,
     "grade_id": "cell-cb3ff910dd835a51",
     "locked": false,
     "schema_version": 3,
     "solution": true,
     "task": false
    }
   },
   "outputs": [],
   "source": [
    "# Returns the filename for the image that is the best match given an L, a, and b value.\n",
    "import math\n",
    "def findBestMatch(df, L, a, b):\n",
    "    distance = 10000000\n",
    "    naming = \"\"\n",
    "    data = []\n",
    "\n",
    "    for i in range (len(df)):\n",
    "        L_disance = (L - df.iloc[i]['L']) ** 2\n",
    "        a_distance = (a - df.iloc[i]['a']) ** 2\n",
    "        b_distance = (b - df.iloc[i]['b']) ** 2\n",
    "        value = math.sqrt(L_disance + a_distance + b_distance)\n",
    "\n",
    "        if value <= distance:\n",
    "            distance = value\n",
    "            naming = df.iloc[i]['file']\n",
    "\n",
    "    newDf = df[df['file'] == naming]\n",
    "    return newDf\n",
    "\n",
    "    "
   ]
  },
  {
   "cell_type": "code",
   "execution_count": 5,
   "metadata": {
    "deletable": false,
    "editable": false,
    "nbgrader": {
     "cell_type": "code",
     "checksum": "625243a9f13c44f9a92d909833182204",
     "grade": true,
     "grade_id": "cell-72eafa6774690dd4",
     "locked": true,
     "points": 1,
     "schema_version": 3,
     "solution": false,
     "task": false
    }
   },
   "outputs": [
    {
     "name": "stdout",
     "output_type": "stream",
     "text": [
      "🎉 All tests passed! 🎉\n"
     ]
    }
   ],
   "source": [
    "## == TEST CASES for Part 2b ==\n",
    "# - This read-only cell contains test cases for your previous cell(s).\n",
    "# - If this cell runs without any errors in the output, you PASSED all test cases!\n",
    "# - If this cell results errors, check you previous cell, make changes, and RE-RUN your code and then this cell.\n",
    "\n",
    "real_df = pd.DataFrame([\n",
    "    {'file': 'test.png', 'L': 47.19722525581813, 'a': 49.03421116311881, 'b': 38.60877549417687},\n",
    "    {'file': 'test2.png', 'L': 54.24409328969397, 'a': 59.3141053878179, 'b': 52.97987993308968},\n",
    "    {'file': 'test3.png', 'L': 46.41423991872082, 'a': 47.89200069370779, 'b': 37.011986112075455}\n",
    "])\n",
    "\n",
    "bestMatch = findBestMatch(real_df, 0, 0, 0)\n",
    "assert(type(bestMatch) == type(pd.DataFrame())), \"findBestMatch must return a DataFrame\"\n",
    "assert(len(bestMatch) == 1), \"findBestMatch must return exactly one best match\"\n",
    "assert(bestMatch['file'].values[0] == 'test3.png'), \"findBestMatch did not return the best match for test (L=0, a=0, b=0)\"\n",
    "\n",
    "bestMatch = findBestMatch(real_df, 47, 49, 38)\n",
    "assert(bestMatch['file'].values[0] == 'test.png'), \"findBestMatch did not return the best match for test (L=47, a=49, b=38)\"\n",
    "\n",
    "bestMatch = findBestMatch(real_df, 54, 49, 38)\n",
    "assert(bestMatch['file'].values[0] == 'test.png'), \"findBestMatch did not return the best match for test (L=54, a=49, b=38)\"\n",
    "\n",
    "bestMatch = findBestMatch(real_df, 54, 49, 52)\n",
    "assert(bestMatch['file'].values[0] == 'test2.png'), \"findBestMatch did not return the best match for test (L=54, a=49, b=52)\"\n",
    "\n",
    "bestMatch = findBestMatch(real_df, -100, -100, -100)\n",
    "assert(bestMatch['file'].values[0] == 'test3.png'), \"findBestMatch did not return the best match for test (L=-100, a=-100, b=-100)\"\n",
    "\n",
    "\n",
    "## == SUCCESS MESSAGE ==\n",
    "# You will only see this message (with the emoji showing) if you passed all test cases:\n",
    "tada = \"\\N{PARTY POPPER}\"\n",
    "print(f\"{tada} All tests passed! {tada}\")"
   ]
  },
  {
   "cell_type": "markdown",
   "metadata": {},
   "source": [
    "## Part 2c: Creating your mosaic!"
   ]
  },
  {
   "cell_type": "markdown",
   "metadata": {},
   "source": [
    "There are two majors values you can adjust:\n",
    "\n",
    "- `tilesAcross` controls how many tiles should make up the width of the mosaic image.  The larger this number, the more tiles you will have, the better your image will look (assuming good tiles), but the slower this will run.\n",
    "\n",
    "- `outputSize` controls the size each tile image is drawn.  The larger this number, the more detail you will have in each tile image, the more you will be able to zoom in, but the bigger the output file will be in the end.\n",
    "\n",
    "Adjust these values here:"
   ]
  },
  {
   "cell_type": "code",
   "execution_count": 6,
   "metadata": {},
   "outputs": [],
   "source": [
    "# How many tiles across each row do you want in your final image?\n",
    "# ...this number is approximate, the exact tiles will find the best match to the size of your image around this number.\n",
    "tilesAcross = 300\n",
    "\n",
    "# How big should each tile be rendered in the masaic image?\n",
    "outputSize = 32"
   ]
  },
  {
   "cell_type": "markdown",
   "metadata": {},
   "source": [
    "Finally, the following code uses your image from Part 1, your DataFrame of average colors for each image, the `findAverageColor` function from Part 2a, and `findBestMatch` function from Part 2b to draw a mosaic image!\n",
    "\n",
    "Make sure to add the file you want to make a mosaic out of in `base.jpg` and run this cell:"
   ]
  },
  {
   "cell_type": "code",
   "execution_count": null,
   "metadata": {},
   "outputs": [
    {
     "name": "stdout",
     "output_type": "stream",
     "text": [
      "Loading in saved average image values...\n",
      "Loading the base.jpg image...\n",
      "Creating your moasic (533 x 800 = 426400 total tiles)...\n",
      "  ...finished: 143 / 533 (26.83%)"
     ]
    }
   ],
   "source": [
    "# Load the saved image data (from Part 1)\n",
    "print(\"Loading in saved average image values...\")\n",
    "df = pd.read_csv('tile-images.csv')\n",
    "\n",
    "# Load the moasic image:\n",
    "print(\"Loading the base.jpg image...\")\n",
    "rgb = skimage.io.imread(\"base.jpg\")\n",
    "lab = skimage.color.rgb2lab(rgb)\n",
    "w = len(lab)\n",
    "h = len(lab[0])\n",
    "\n",
    "# Ensure we have no half-tiles (this will cut off the edge of the photo if needed)\n",
    "tileSize = int(w / tilesAcross)\n",
    "w_tiles = int(w / tileSize)\n",
    "h_tiles = int(h / tileSize)\n",
    "w = w_tiles * tileSize\n",
    "h = h_tiles * tileSize\n",
    "\n",
    "# Create a final image of the correct size to draw the final mosaic on:\n",
    "baseImage = Image.new('RGB', (outputSize * h_tiles, outputSize * w_tiles))\n",
    "\n",
    "# Store images used to speed up processing (often once an image is used once, it will be used again):\n",
    "cache = {}\n",
    "\n",
    "print(f\"Creating your moasic ({w_tiles} x {h_tiles} = {w_tiles * h_tiles} total tiles)...\")\n",
    "for x in range(0, w, tileSize):\n",
    "    for y in range(0, h, tileSize):\n",
    "        # Find the average color for the current tile:\n",
    "        tileAvgColor = findAverageColor(lab, x, y, tileSize, tileSize)\n",
    "        \n",
    "        # Find the best file match:\n",
    "        df_bestMatch = findBestMatch(df, tileAvgColor['L'], tileAvgColor['a'], tileAvgColor['b'])\n",
    "        bestFileName = df_bestMatch['file'].values[0]\n",
    "        \n",
    "        # load the iamge in and resize it to be a `outputSize` x `outputSize` (or get it from the cache)\n",
    "        if bestFileName in cache:\n",
    "            smallTile = cache[bestFileName]\n",
    "        else:\n",
    "            tileImage = Image.open(bestFileName)\n",
    "            tileW, tileH = tileImage.size\n",
    "            tileD = min(tileW, tileH)\n",
    "            smallTile = tileImage.crop( (0, 0, tileD, tileD) ).resize( (outputSize, outputSize), resample=PIL.Image.LANCZOS )\n",
    "            cache[bestFileName] = smallTile\n",
    "        \n",
    "        # Draw the tile:\n",
    "        baseImage.paste(smallTile, ( int((y / tileSize) * outputSize), int((x / tileSize) * outputSize)))\n",
    "        \n",
    "    # Print out a progress message:\n",
    "    completed = int((x / tileSize) + 1) * tileSize\n",
    "    pct = completed / (w_tiles * tileSize) * 100\n",
    "    sys.stdout.write(f'\\r  ...finished: {completed} / {w_tiles * tileSize} ({pct:.2f}%)')\n",
    "\n",
    "# Save the image as mosaic.jpg\n",
    "baseImage.save('mosaic.jpg')\n",
    "\n",
    "# Print a message:\n",
    "tada = \"\\N{PARTY POPPER}\"\n",
    "print(\"\")\n",
    "print(\"\")\n",
    "print(f\"{tada} MOSAIC COMPLETE! {tada}\")\n",
    "print(\"- See mosaic.jpg to see your moasic!\")"
   ]
  },
  {
   "cell_type": "markdown",
   "metadata": {},
   "source": []
  },
  {
   "cell_type": "code",
   "execution_count": null,
   "metadata": {},
   "outputs": [],
   "source": []
  }
 ],
 "metadata": {
  "kernelspec": {
   "display_name": "Python 3",
   "language": "python",
   "name": "python3"
  },
  "language_info": {
   "codemirror_mode": {
    "name": "ipython",
    "version": 3
   },
   "file_extension": ".py",
   "mimetype": "text/x-python",
   "name": "python",
   "nbconvert_exporter": "python",
   "pygments_lexer": "ipython3",
   "version": "3.7.3"
  }
 },
 "nbformat": 4,
 "nbformat_minor": 2
}
